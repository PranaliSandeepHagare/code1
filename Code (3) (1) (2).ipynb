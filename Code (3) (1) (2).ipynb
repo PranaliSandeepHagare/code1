{
 "cells": [
  {
   "cell_type": "markdown",
   "metadata": {},
   "source": [
    "# 1. Import  Libraries"
   ]
  },
  {
   "cell_type": "code",
   "execution_count": 1,
   "metadata": {},
   "outputs": [],
   "source": [
    "import cv2\n",
    "import numpy as np\n",
    "import os\n",
    "from matplotlib import pyplot as plt\n",
    "import time\n",
    "import mediapipe as mp"
   ]
  },
  {
   "cell_type": "markdown",
   "metadata": {},
   "source": [
    "# 2. Keypoints using MP Holistic"
   ]
  },
  {
   "cell_type": "code",
   "execution_count": 2,
   "metadata": {},
   "outputs": [],
   "source": [
    "mp_holistic = mp.solutions.holistic # Holistic model\n",
    "mp_drawing = mp.solutions.drawing_utils # Drawing utilities"
   ]
  },
  {
   "cell_type": "code",
   "execution_count": 3,
   "metadata": {},
   "outputs": [],
   "source": [
    "def mediapipe_detection(image, model):\n",
    "    image = cv2.cvtColor(image, cv2.COLOR_BGR2RGB) \n",
    "    image.flags.writeable = False                  \n",
    "    results = model.process(image)                 \n",
    "    image.flags.writeable = True                  \n",
    "    image = cv2.cvtColor(image, cv2.COLOR_RGB2BGR) \n",
    "    return image, results"
   ]
  },
  {
   "cell_type": "code",
   "execution_count": 4,
   "metadata": {},
   "outputs": [],
   "source": [
    "def draw_landmarks(image, results):\n",
    "#     mp_drawing.draw_landmarks(image, results.face_landmarks, mp_holistic.FACEMESH_CONTOURS) # Draw face connections\n",
    "    mp_drawing.draw_landmarks(image, results.pose_landmarks, mp_holistic.POSE_CONNECTIONS) # Draw pose connections\n",
    "    mp_drawing.draw_landmarks(image, results.left_hand_landmarks, mp_holistic.HAND_CONNECTIONS) # Draw left hand connections\n",
    "    mp_drawing.draw_landmarks(image, results.right_hand_landmarks, mp_holistic.HAND_CONNECTIONS) # Draw right hand connections"
   ]
  },
  {
   "cell_type": "code",
   "execution_count": 5,
   "metadata": {},
   "outputs": [],
   "source": [
    "def draw_styled_landmarks(image, results):\n",
    "    # Draw face connections\n",
    "#     mp_drawing.draw_landmarks(image, results.face_landmarks, mp_holistic.FACEMESH_CONTOURS, \n",
    "#                              mp_drawing.DrawingSpec(color=(80,110,10), thickness=1, circle_radius=1), \n",
    "#                              mp_drawing.DrawingSpec(color=(80,256,121), thickness=1, circle_radius=1)\n",
    "#                              ) \n",
    "    # Draw pose connections\n",
    "    mp_drawing.draw_landmarks(image, results.pose_landmarks, mp_holistic.POSE_CONNECTIONS,\n",
    "                             mp_drawing.DrawingSpec(color=(80,22,10), thickness=2, circle_radius=4), \n",
    "                             mp_drawing.DrawingSpec(color=(80,44,121), thickness=2, circle_radius=2)\n",
    "                             ) \n",
    "    # Draw left hand connections\n",
    "    mp_drawing.draw_landmarks(image, results.left_hand_landmarks, mp_holistic.HAND_CONNECTIONS, \n",
    "                             mp_drawing.DrawingSpec(color=(121,22,76), thickness=2, circle_radius=4), \n",
    "                             mp_drawing.DrawingSpec(color=(121,44,250), thickness=2, circle_radius=2)\n",
    "                             ) \n",
    "    # Draw right hand connections  \n",
    "    mp_drawing.draw_landmarks(image, results.right_hand_landmarks, mp_holistic.HAND_CONNECTIONS, \n",
    "                             mp_drawing.DrawingSpec(color=(245,117,66), thickness=2, circle_radius=4), \n",
    "                             mp_drawing.DrawingSpec(color=(245,66,230), thickness=2, circle_radius=2)\n",
    "                             ) "
   ]
  },
  {
   "cell_type": "code",
   "execution_count": 6,
   "metadata": {},
   "outputs": [
    {
     "name": "stdout",
     "output_type": "stream",
     "text": [
      "<class 'mediapipe.python.solution_base.SolutionOutputs'>\n",
      "<class 'mediapipe.python.solution_base.SolutionOutputs'>\n",
      "<class 'mediapipe.python.solution_base.SolutionOutputs'>\n",
      "<class 'mediapipe.python.solution_base.SolutionOutputs'>\n",
      "<class 'mediapipe.python.solution_base.SolutionOutputs'>\n",
      "<class 'mediapipe.python.solution_base.SolutionOutputs'>\n",
      "<class 'mediapipe.python.solution_base.SolutionOutputs'>\n",
      "<class 'mediapipe.python.solution_base.SolutionOutputs'>\n",
      "<class 'mediapipe.python.solution_base.SolutionOutputs'>\n",
      "<class 'mediapipe.python.solution_base.SolutionOutputs'>\n",
      "<class 'mediapipe.python.solution_base.SolutionOutputs'>\n",
      "<class 'mediapipe.python.solution_base.SolutionOutputs'>\n",
      "<class 'mediapipe.python.solution_base.SolutionOutputs'>\n",
      "<class 'mediapipe.python.solution_base.SolutionOutputs'>\n",
      "<class 'mediapipe.python.solution_base.SolutionOutputs'>\n",
      "<class 'mediapipe.python.solution_base.SolutionOutputs'>\n",
      "<class 'mediapipe.python.solution_base.SolutionOutputs'>\n",
      "<class 'mediapipe.python.solution_base.SolutionOutputs'>\n",
      "<class 'mediapipe.python.solution_base.SolutionOutputs'>\n",
      "<class 'mediapipe.python.solution_base.SolutionOutputs'>\n",
      "<class 'mediapipe.python.solution_base.SolutionOutputs'>\n",
      "<class 'mediapipe.python.solution_base.SolutionOutputs'>\n",
      "<class 'mediapipe.python.solution_base.SolutionOutputs'>\n",
      "<class 'mediapipe.python.solution_base.SolutionOutputs'>\n",
      "<class 'mediapipe.python.solution_base.SolutionOutputs'>\n",
      "<class 'mediapipe.python.solution_base.SolutionOutputs'>\n",
      "<class 'mediapipe.python.solution_base.SolutionOutputs'>\n",
      "<class 'mediapipe.python.solution_base.SolutionOutputs'>\n",
      "<class 'mediapipe.python.solution_base.SolutionOutputs'>\n"
     ]
    }
   ],
   "source": [
    "cap = cv2.VideoCapture(0)\n",
    "# Set mediapipe model \n",
    "with mp_holistic.Holistic(min_detection_confidence=0.5, min_tracking_confidence=0.5) as holistic:\n",
    "    while cap.isOpened():\n",
    "\n",
    "        # Read feed\n",
    "        ret, frame = cap.read()\n",
    "\n",
    "        # Make detections\n",
    "        image, results = mediapipe_detection(frame, holistic)\n",
    "        print(results)\n",
    "        \n",
    "        # Draw landmarks\n",
    "        draw_styled_landmarks(image, results)\n",
    "\n",
    "        # Show to screen\n",
    "        cv2.imshow('OpenCV Feed', image)\n",
    "\n",
    "        # Break gracefully\n",
    "        if cv2.waitKey(10) & 0xFF == ord('q'):\n",
    "            break\n",
    "    cap.release()\n",
    "    cv2.destroyAllWindows()"
   ]
  },
  {
   "cell_type": "code",
   "execution_count": 7,
   "metadata": {},
   "outputs": [
    {
     "data": {
      "text/plain": [
       "21"
      ]
     },
     "execution_count": 7,
     "metadata": {},
     "output_type": "execute_result"
    }
   ],
   "source": [
    "len(results.left_hand_landmarks.landmark)"
   ]
  },
  {
   "cell_type": "code",
   "execution_count": 8,
   "metadata": {},
   "outputs": [
    {
     "data": {
      "text/plain": [
       "mediapipe.python.solution_base.SolutionOutputs"
      ]
     },
     "execution_count": 8,
     "metadata": {},
     "output_type": "execute_result"
    }
   ],
   "source": [
    "results"
   ]
  },
  {
   "cell_type": "code",
   "execution_count": 9,
   "metadata": {},
   "outputs": [],
   "source": [
    "draw_landmarks(frame, results)"
   ]
  },
  {
   "cell_type": "code",
   "execution_count": 10,
   "metadata": {},
   "outputs": [
    {
     "data": {
      "text/plain": [
       "<matplotlib.image.AxesImage at 0x14a80029700>"
      ]
     },
     "execution_count": 10,
     "metadata": {},
     "output_type": "execute_result"
    },
    {
     "data": {
      "image/png": "[encoded data removed]",
      "text/plain": [
       "<Figure size 432x288 with 1 Axes>"
      ]
     },
     "metadata": {
      "needs_background": "light"
     },
     "output_type": "display_data"
    }
   ],
   "source": [
    "plt.imshow(cv2.cvtColor(frame, cv2.COLOR_BGR2RGB))"
   ]
  },
  {
   "cell_type": "markdown",
   "metadata": {},
   "source": [
    "# 3. Extract Keypoint Values"
   ]
  },
  {
   "cell_type": "code",
   "execution_count": 11,
   "metadata": {},
   "outputs": [
    {
     "data": {
      "text/plain": [
       "21"
      ]
     },
     "execution_count": 11,
     "metadata": {},
     "output_type": "execute_result"
    }
   ],
   "source": [
    "len(results.left_hand_landmarks.landmark)\n"
   ]
  },
  {
   "cell_type": "code",
   "execution_count": 12,
   "metadata": {},
   "outputs": [],
   "source": [
    "pose = np.array([[res.x, res.y, res.z, res.visibility] for res in results.pose_landmarks.landmark]).flatten() if results.pose_landmarks else np.zeros(132)\n",
    "# face = np.array([[res.x, res.y, res.z] for res in results.face_landmarks.landmark]).flatten() if results.face_landmarks else np.zeros(1404)\n",
    "lh = np.array([[res.x, res.y, res.z] for res in results.left_hand_landmarks.landmark]).flatten() if results.left_hand_landmarks else np.zeros(21*3)\n",
    "rh = np.array([[res.x, res.y, res.z] for res in results.right_hand_landmarks.landmark]).flatten() if results.right_hand_landmarks else np.zeros(21*3)"
   ]
  },
  {
   "cell_type": "code",
   "execution_count": 13,
   "metadata": {},
   "outputs": [],
   "source": [
    "def extract_keypoints(results):\n",
    "    pose = np.array([[res.x, res.y, res.z, res.visibility] for res in results.pose_landmarks.landmark]).flatten() if results.pose_landmarks else np.zeros(33*4)\n",
    "#     face = np.array([[res.x, res.y, res.z] for res in results.face_landmarks.landmark]).flatten() if results.face_landmarks else np.zeros(468*3)\n",
    "    lh = np.array([[res.x, res.y, res.z] for res in results.left_hand_landmarks.landmark]).flatten() if results.left_hand_landmarks else np.zeros(21*3)\n",
    "    rh = np.array([[res.x, res.y, res.z] for res in results.right_hand_landmarks.landmark]).flatten() if results.right_hand_landmarks else np.zeros(21*3)\n",
    "    return np.concatenate([pose, lh, rh])"
   ]
  },
  {
   "cell_type": "code",
   "execution_count": 14,
   "metadata": {},
   "outputs": [
    {
     "data": {
      "text/plain": [
       "array([ 5.70860028e-01,  4.72412914e-01, -6.42171681e-01,  9.99994934e-01,\n",
       "        5.93611598e-01,  4.12785649e-01, -5.96357882e-01,  9.99988019e-01,\n",
       "        6.07789040e-01,  4.12181050e-01, -5.96088767e-01,  9.99988735e-01,\n",
       "        6.20621264e-01,  4.12613213e-01, -5.95516145e-01,  9.99984741e-01,\n",
       "        5.40553749e-01,  4.16699827e-01, -6.04187965e-01,  9.99986231e-01,\n",
       "        5.22215426e-01,  4.18908209e-01, -6.03662610e-01,  9.99985218e-01,\n",
       "        5.08391082e-01,  4.21026558e-01, -6.03966355e-01,  9.99980271e-01,\n",
       "        6.39145970e-01,  4.33757961e-01, -3.09179962e-01,  9.99983549e-01,\n",
       "        4.93663162e-01,  4.47194397e-01, -3.43898743e-01,  9.99991417e-01,\n",
       "        6.02933288e-01,  5.26570976e-01, -5.36318898e-01,  9.99990582e-01,\n",
       "        5.40563941e-01,  5.33279300e-01, -5.46045482e-01,  9.99992967e-01,\n",
       "        7.40513742e-01,  6.96366012e-01, -1.03508115e-01,  9.99552548e-01,\n",
       "        4.09055382e-01,  7.42308915e-01, -2.21376583e-01,  9.98991549e-01,\n",
       "        9.70313728e-01,  1.06647038e+00, -5.42658091e-01,  7.13924468e-01,\n",
       "        3.81067097e-01,  1.09484971e+00, -2.63184994e-01,  2.20891953e-01,\n",
       "        9.21561837e-01,  8.41052055e-01, -1.19860578e+00,  9.66172516e-01,\n",
       "        3.95249963e-01,  1.46944475e+00, -5.47837615e-01,  2.82555997e-01,\n",
       "        9.42320347e-01,  7.07451046e-01, -1.31768584e+00,  9.48605001e-01,\n",
       "        3.98698032e-01,  1.57658315e+00, -5.84474623e-01,  3.60653549e-01,\n",
       "        8.88538361e-01,  6.59977794e-01, -1.21623433e+00,  9.57130551e-01,\n",
       "        4.26710069e-01,  1.54949808e+00, -6.24628663e-01,  4.64939833e-01,\n",
       "        8.43164563e-01,  7.16031432e-01, -1.18134451e+00,  9.50387478e-01,\n",
       "        4.34954494e-01,  1.51362073e+00, -5.71303487e-01,  4.77317363e-01,\n",
       "        7.52777517e-01,  1.36007249e+00, -2.80264057e-02,  1.99776958e-03,\n",
       "        4.93703991e-01,  1.38616443e+00,  3.28601114e-02,  1.34311512e-03,\n",
       "        7.66760945e-01,  1.91407716e+00, -1.80099178e-02,  3.99368437e-04,\n",
       "        5.35315156e-01,  1.94481981e+00,  1.08099997e-01,  1.82943826e-04,\n",
       "        7.91465044e-01,  2.38150287e+00,  5.47923803e-01,  1.09418324e-05,\n",
       "        5.76952159e-01,  2.39880109e+00,  5.66969931e-01,  2.52712880e-06,\n",
       "        7.98384547e-01,  2.45733595e+00,  5.78832269e-01,  5.45445118e-06,\n",
       "        5.73627651e-01,  2.47208023e+00,  6.01432860e-01,  4.05998844e-06,\n",
       "        7.84053326e-01,  2.53957915e+00,  1.34461120e-01,  7.23063786e-05,\n",
       "        6.47196770e-01,  2.55398679e+00,  1.02321103e-01,  5.16607797e-05,\n",
       "        9.20872927e-01,  8.88393819e-01,  3.46550820e-07,  8.46827805e-01,\n",
       "        8.44776809e-01, -2.69341804e-02,  7.85261869e-01,  7.50996292e-01,\n",
       "       -3.62859704e-02,  7.44746149e-01,  6.68461263e-01, -4.46229652e-02,\n",
       "        7.04942405e-01,  6.13886058e-01, -5.13880216e-02,  8.19621801e-01,\n",
       "        6.08753681e-01, -1.68515812e-03,  8.01188111e-01,  5.03684402e-01,\n",
       "       -1.89796444e-02,  7.91917026e-01,  4.41933513e-01, -3.79275195e-02,\n",
       "        7.85169065e-01,  3.82494241e-01, -5.34979850e-02,  8.64219964e-01,\n",
       "        5.92921853e-01, -4.63575358e-03,  8.40288222e-01,  4.77873385e-01,\n",
       "       -1.70289744e-02,  8.26550901e-01,  4.09410149e-01, -3.21368612e-02,\n",
       "        8.11867893e-01,  3.46793681e-01, -4.46566381e-02,  9.10109460e-01,\n",
       "        5.99747896e-01, -1.33571904e-02,  8.87159169e-01,  4.91234332e-01,\n",
       "       -2.74879839e-02,  8.69421482e-01,  4.28196490e-01, -3.54403630e-02,\n",
       "        8.51172686e-01,  3.71558040e-01, -4.23875228e-02,  9.61437583e-01,\n",
       "        6.24860048e-01, -2.59867720e-02,  9.52463210e-01,  5.39017737e-01,\n",
       "       -3.95996235e-02,  9.45852458e-01,  4.83139098e-01, -4.34777960e-02,\n",
       "        9.37854707e-01,  4.29520905e-01, -4.63775769e-02,  0.00000000e+00,\n",
       "        0.00000000e+00,  0.00000000e+00,  0.00000000e+00,  0.00000000e+00,\n",
       "        0.00000000e+00,  0.00000000e+00,  0.00000000e+00,  0.00000000e+00,\n",
       "        0.00000000e+00,  0.00000000e+00,  0.00000000e+00,  0.00000000e+00,\n",
       "        0.00000000e+00,  0.00000000e+00,  0.00000000e+00,  0.00000000e+00,\n",
       "        0.00000000e+00,  0.00000000e+00,  0.00000000e+00,  0.00000000e+00,\n",
       "        0.00000000e+00,  0.00000000e+00,  0.00000000e+00,  0.00000000e+00,\n",
       "        0.00000000e+00,  0.00000000e+00,  0.00000000e+00,  0.00000000e+00,\n",
       "        0.00000000e+00,  0.00000000e+00,  0.00000000e+00,  0.00000000e+00,\n",
       "        0.00000000e+00,  0.00000000e+00,  0.00000000e+00,  0.00000000e+00,\n",
       "        0.00000000e+00,  0.00000000e+00,  0.00000000e+00,  0.00000000e+00,\n",
       "        0.00000000e+00,  0.00000000e+00,  0.00000000e+00,  0.00000000e+00,\n",
       "        0.00000000e+00,  0.00000000e+00,  0.00000000e+00,  0.00000000e+00,\n",
       "        0.00000000e+00,  0.00000000e+00,  0.00000000e+00,  0.00000000e+00,\n",
       "        0.00000000e+00,  0.00000000e+00,  0.00000000e+00,  0.00000000e+00,\n",
       "        0.00000000e+00,  0.00000000e+00,  0.00000000e+00,  0.00000000e+00,\n",
       "        0.00000000e+00,  0.00000000e+00])"
      ]
     },
     "execution_count": 14,
     "metadata": {},
     "output_type": "execute_result"
    }
   ],
   "source": [
    "result_test = extract_keypoints(results)\n",
    "result_test"
   ]
  },
  {
   "cell_type": "code",
   "execution_count": 15,
   "metadata": {},
   "outputs": [
    {
     "data": {
      "text/plain": [
       "258"
      ]
     },
     "execution_count": 15,
     "metadata": {},
     "output_type": "execute_result"
    }
   ],
   "source": [
    "33*4+21*3+21*3"
   ]
  },
  {
   "cell_type": "code",
   "execution_count": 124,
   "metadata": {},
   "outputs": [
    {
     "data": {
      "text/plain": [
       "array([ 5.81777811e-01,  4.50865716e-01, -5.74298680e-01,  9.99853730e-01,\n",
       "        6.06678784e-01,  3.96760315e-01, -5.40092528e-01,  9.99812901e-01,\n",
       "        6.23817801e-01,  3.92556846e-01, -5.39734960e-01,  9.99793649e-01,\n",
       "        6.40097857e-01,  3.89198840e-01, -5.39261222e-01,  9.99819160e-01,\n",
       "        5.58453679e-01,  4.09412354e-01, -5.19556224e-01,  9.99784410e-01,\n",
       "        5.44649005e-01,  4.13103938e-01, -5.18854916e-01,  9.99736607e-01,\n",
       "        5.31646848e-01,  4.16791469e-01, -5.19131482e-01,  9.99737859e-01,\n",
       "        6.66761398e-01,  4.06030744e-01, -2.90040761e-01,  9.99843895e-01,\n",
       "        5.20436645e-01,  4.39400017e-01, -1.83836579e-01,  9.99651551e-01,\n",
       "        6.17062926e-01,  4.97917384e-01, -4.81835991e-01,  9.99799550e-01,\n",
       "        5.59291601e-01,  5.10023177e-01, -4.51078594e-01,  9.99760687e-01,\n",
       "        7.94596553e-01,  6.61897004e-01, -1.39687523e-01,  9.99244452e-01,\n",
       "        4.84342277e-01,  7.03962207e-01, -1.22888898e-02,  9.95551407e-01,\n",
       "        9.94778514e-01,  8.71409416e-01, -5.47478199e-01,  9.18535650e-01,\n",
       "        4.42616880e-01,  9.99899685e-01,  8.52870867e-02,  5.03570318e-01,\n",
       "        9.14270878e-01,  4.79190439e-01, -9.47906852e-01,  9.10140574e-01,\n",
       "        3.52294296e-01,  1.30509698e+00, -1.78907976e-01,  5.71570992e-01,\n",
       "        8.88295174e-01,  3.22364628e-01, -1.03406894e+00,  9.02407527e-01,\n",
       "        3.17312241e-01,  1.38238192e+00, -2.11216062e-01,  6.08246267e-01,\n",
       "        8.64179909e-01,  2.96678185e-01, -9.22871470e-01,  9.19500232e-01,\n",
       "        3.35199416e-01,  1.36071050e+00, -2.77809411e-01,  6.85393810e-01,\n",
       "        8.49452496e-01,  3.54001075e-01, -9.21477139e-01,  9.11823750e-01,\n",
       "        3.53939056e-01,  1.33694673e+00, -2.21515685e-01,  6.94737017e-01,\n",
       "        7.81615078e-01,  1.36961377e+00, -7.88377598e-02,  1.64415576e-02,\n",
       "        5.37958503e-01,  1.36341691e+00,  8.38900656e-02,  8.76931753e-03,\n",
       "        7.65884042e-01,  1.95393407e+00, -1.82596296e-01,  4.77832649e-03,\n",
       "        5.36084175e-01,  1.93913913e+00,  1.89391255e-01,  1.65821647e-03,\n",
       "        7.61158705e-01,  2.45653391e+00,  2.14542821e-01,  2.92373530e-04,\n",
       "        5.45286953e-01,  2.44462705e+00,  4.77840275e-01,  7.42490593e-05,\n",
       "        7.72633433e-01,  2.52338147e+00,  2.30953529e-01,  1.88355509e-04,\n",
       "        5.41261196e-01,  2.50962186e+00,  5.02460599e-01,  1.47529718e-04,\n",
       "        7.15395331e-01,  2.60940528e+00, -2.63672233e-01,  3.47882829e-04,\n",
       "        5.83505273e-01,  2.62021470e+00, -4.62879613e-02,  3.09521420e-04,\n",
       "        9.33662415e-01,  5.62902749e-01,  5.35669130e-07,  8.48732233e-01,\n",
       "        5.16892135e-01, -4.40152027e-02,  8.02993715e-01,  4.10435796e-01,\n",
       "       -6.09781742e-02,  8.02214205e-01,  3.04110646e-01, -7.37905204e-02,\n",
       "        7.95633912e-01,  2.15185031e-01, -8.53476524e-02,  8.58169317e-01,\n",
       "        2.62198448e-01, -2.21365914e-02,  8.64035726e-01,  1.37939215e-01,\n",
       "       -5.05647548e-02,  8.74083042e-01,  5.71972281e-02, -7.76067898e-02,\n",
       "        8.85450602e-01, -1.11923218e-02, -9.62988958e-02,  9.02875006e-01,\n",
       "        2.48635784e-01, -1.94827244e-02,  9.06865180e-01,  1.12021744e-01,\n",
       "       -4.13906351e-02,  9.10304248e-01,  2.89219022e-02, -6.52317181e-02,\n",
       "        9.16398883e-01, -4.30823863e-02, -8.29917938e-02,  9.42744315e-01,\n",
       "        2.57691771e-01, -2.37259232e-02,  9.51164544e-01,  1.30860090e-01,\n",
       "       -4.46073264e-02,  9.55185115e-01,  4.86132801e-02, -6.09238259e-02,\n",
       "        9.63370085e-01, -2.19378769e-02, -7.31284395e-02,  9.83299017e-01,\n",
       "        2.87165463e-01, -3.30640599e-02,  9.93864179e-01,  1.88881457e-01,\n",
       "       -5.00917919e-02,  9.99090791e-01,  1.22411817e-01, -5.79361245e-02,\n",
       "        1.00407696e+00,  6.16422445e-02, -6.37014359e-02,  0.00000000e+00,\n",
       "        0.00000000e+00,  0.00000000e+00,  0.00000000e+00,  0.00000000e+00,\n",
       "        0.00000000e+00,  0.00000000e+00,  0.00000000e+00,  0.00000000e+00,\n",
       "        0.00000000e+00,  0.00000000e+00,  0.00000000e+00,  0.00000000e+00,\n",
       "        0.00000000e+00,  0.00000000e+00,  0.00000000e+00,  0.00000000e+00,\n",
       "        0.00000000e+00,  0.00000000e+00,  0.00000000e+00,  0.00000000e+00,\n",
       "        0.00000000e+00,  0.00000000e+00,  0.00000000e+00,  0.00000000e+00,\n",
       "        0.00000000e+00,  0.00000000e+00,  0.00000000e+00,  0.00000000e+00,\n",
       "        0.00000000e+00,  0.00000000e+00,  0.00000000e+00,  0.00000000e+00,\n",
       "        0.00000000e+00,  0.00000000e+00,  0.00000000e+00,  0.00000000e+00,\n",
       "        0.00000000e+00,  0.00000000e+00,  0.00000000e+00,  0.00000000e+00,\n",
       "        0.00000000e+00,  0.00000000e+00,  0.00000000e+00,  0.00000000e+00,\n",
       "        0.00000000e+00,  0.00000000e+00,  0.00000000e+00,  0.00000000e+00,\n",
       "        0.00000000e+00,  0.00000000e+00,  0.00000000e+00,  0.00000000e+00,\n",
       "        0.00000000e+00,  0.00000000e+00,  0.00000000e+00,  0.00000000e+00,\n",
       "        0.00000000e+00,  0.00000000e+00,  0.00000000e+00,  0.00000000e+00,\n",
       "        0.00000000e+00,  0.00000000e+00])"
      ]
     },
     "execution_count": 124,
     "metadata": {},
     "output_type": "execute_result"
    }
   ],
   "source": [
    "np.save('0', result_test)\n",
    "np.load('0.npy')"
   ]
  },
  {
   "cell_type": "markdown",
   "metadata": {},
   "source": [
    "# 4. Setup Folders for Collection"
   ]
  },
  {
   "cell_type": "code",
   "execution_count": 90,
   "metadata": {},
   "outputs": [],
   "source": [
    "# Path for exported data, numpy arrays\n",
    "DATA_PATH = os.path.join('Data_rh') \n",
    "\n",
    "# Actions that we try to detect\n",
    "actions = np.array(['Sorry','Hello','I am Good','Food','Stop','There is Gun'])\n",
    "\n",
    "\n",
    "no_sequences = 50\n",
    "\n",
    "\n",
    "sequence_length = 30"
   ]
  },
  {
   "cell_type": "code",
   "execution_count": 91,
   "metadata": {},
   "outputs": [],
   "source": [
    "for action in actions: \n",
    "    for sequence in range(no_sequences):\n",
    "        try: \n",
    "            os.makedirs(os.path.join(DATA_PATH, action, str(sequence)))\n",
    "        except:\n",
    "            pass"
   ]
  },
  {
   "cell_type": "markdown",
   "metadata": {},
   "source": [
    "# 5. Collect Keypoint Values for Training and Testing"
   ]
  },
  {
   "cell_type": "code",
   "execution_count": null,
   "metadata": {},
   "outputs": [],
   "source": [
    "cap = cv2.VideoCapture(0)\n",
    "# Set mediapipe model \n",
    "with mp_holistic.Holistic(min_detection_confidence=0.5, min_tracking_confidence=0.5) as holistic:\n",
    "    \n",
    "    # NEW LOOP\n",
    "    # Loop through actions\n",
    "    for action in actions:\n",
    "        # Loop through sequences aka videos\n",
    "        for sequence in range(no_sequences):\n",
    "            # Loop through video length aka sequence length\n",
    "            for frame_num in range(sequence_length):\n",
    "\n",
    "                # Read feed\n",
    "                ret, frame = cap.read()\n",
    "\n",
    "                # Make detections\n",
    "                image, results = mediapipe_detection(frame, holistic)\n",
    "#                 print(results)\n",
    "\n",
    "                # Draw landmarks\n",
    "                draw_styled_landmarks(image, results)\n",
    "                \n",
    "                # NEW Apply wait logic\n",
    "                if frame_num == 0: \n",
    "                    cv2.putText(image, 'STARTING COLLECTION', (120,200), \n",
    "                               cv2.FONT_HERSHEY_SIMPLEX, 1, (0,255, 0), 4, cv2.LINE_AA)\n",
    "                    cv2.putText(image, 'Collecting frames for {} Video Number {}'.format(action, sequence), (15,12), \n",
    "                               cv2.FONT_HERSHEY_SIMPLEX, 0.5, (0, 0, 255), 1, cv2.LINE_AA)\n",
    "                    # Show to screen\n",
    "                    cv2.imshow('OpenCV Feed', image)\n",
    "                    cv2.waitKey(2000)\n",
    "                else: \n",
    "                    cv2.putText(image, 'Collecting frames for {} Video Number {}'.format(action, sequence), (15,12), \n",
    "                               cv2.FONT_HERSHEY_SIMPLEX, 0.5, (0, 0, 255), 1, cv2.LINE_AA)\n",
    "                    # Show to screen\n",
    "                    cv2.imshow('OpenCV Feed', image)\n",
    "                \n",
    "                # NEW Export keypoints\n",
    "                keypoints = extract_keypoints(results)\n",
    "                npy_path = os.path.join(DATA_PATH, action, str(sequence), str(frame_num))\n",
    "                np.save(npy_path, keypoints)\n",
    "\n",
    "                # Break gracefully\n",
    "                if cv2.waitKey(10) & 0xFF == ord('q'):\n",
    "                    break\n",
    "                    \n",
    "    cap.release()\n",
    "    cv2.destroyAllWindows()"
   ]
  },
  {
   "cell_type": "code",
   "execution_count": 83,
   "metadata": {},
   "outputs": [],
   "source": [
    "cap.release()\n",
    "cv2.destroyAllWindows()"
   ]
  },
  {
   "cell_type": "markdown",
   "metadata": {},
   "source": [
    "# 6. Preprocess Data and Create Labels and Features"
   ]
  },
  {
   "cell_type": "code",
   "execution_count": 92,
   "metadata": {},
   "outputs": [],
   "source": [
    "from sklearn.model_selection import train_test_split\n",
    "from tensorflow.keras.utils import to_categorical"
   ]
  },
  {
   "cell_type": "code",
   "execution_count": 93,
   "metadata": {},
   "outputs": [],
   "source": [
    "\n",
    "label_map = {label:num for num, label in enumerate(actions)}"
   ]
  },
  {
   "cell_type": "code",
   "execution_count": 94,
   "metadata": {},
   "outputs": [
    {
     "data": {
      "text/plain": [
       "{'Sorry': 0,\n",
       " 'Hello': 1,\n",
       " 'I am Good': 2,\n",
       " 'Food': 3,\n",
       " 'Stop': 4,\n",
       " 'There is Gun': 5}"
      ]
     },
     "execution_count": 94,
     "metadata": {},
     "output_type": "execute_result"
    }
   ],
   "source": [
    "label_map"
   ]
  },
  {
   "cell_type": "code",
   "execution_count": 95,
   "metadata": {},
   "outputs": [],
   "source": [
    "sequences, labels = [], []\n",
    "for action in actions:\n",
    "    for sequence in range(no_sequences):\n",
    "        window = []\n",
    "        for frame_num in range(sequence_length):\n",
    "            res = np.load(os.path.join(DATA_PATH, action, str(sequence), \"{}.npy\".format(frame_num)))\n",
    "            window.append(res)\n",
    "        sequences.append(window)\n",
    "        labels.append(label_map[action])"
   ]
  },
  {
   "cell_type": "code",
   "execution_count": 96,
   "metadata": {},
   "outputs": [
    {
     "data": {
      "text/plain": [
       "(300, 30, 258)"
      ]
     },
     "execution_count": 96,
     "metadata": {},
     "output_type": "execute_result"
    }
   ],
   "source": [
    "np.array(sequences).shape"
   ]
  },
  {
   "cell_type": "code",
   "execution_count": 97,
   "metadata": {},
   "outputs": [
    {
     "data": {
      "text/plain": [
       "(300,)"
      ]
     },
     "execution_count": 97,
     "metadata": {},
     "output_type": "execute_result"
    }
   ],
   "source": [
    "np.array(labels).shape"
   ]
  },
  {
   "cell_type": "code",
   "execution_count": 127,
   "metadata": {},
   "outputs": [],
   "source": [
    "X = np.array(sequences)"
   ]
  },
  {
   "cell_type": "code",
   "execution_count": 99,
   "metadata": {},
   "outputs": [
    {
     "data": {
      "text/plain": [
       "(300, 30, 258)"
      ]
     },
     "execution_count": 99,
     "metadata": {},
     "output_type": "execute_result"
    }
   ],
   "source": [
    "X.shape"
   ]
  },
  {
   "cell_type": "code",
   "execution_count": 100,
   "metadata": {},
   "outputs": [],
   "source": [
    "y = to_categorical(labels).astype(int)"
   ]
  },
  {
   "cell_type": "code",
   "execution_count": 101,
   "metadata": {},
   "outputs": [
    {
     "data": {
      "text/plain": [
       "array([[1, 0, 0, 0, 0, 0],\n",
       "       [1, 0, 0, 0, 0, 0],\n",
       "       [1, 0, 0, 0, 0, 0],\n",
       "       ...,\n",
       "       [0, 0, 0, 0, 0, 1],\n",
       "       [0, 0, 0, 0, 0, 1],\n",
       "       [0, 0, 0, 0, 0, 1]])"
      ]
     },
     "execution_count": 101,
     "metadata": {},
     "output_type": "execute_result"
    }
   ],
   "source": [
    "y"
   ]
  },
  {
   "cell_type": "code",
   "execution_count": 102,
   "metadata": {},
   "outputs": [],
   "source": [
    "# X_train, X_test, y_train, y_test = train_test_split(X, y, test_size=0.2)\n",
    "X_train, X_val, y_train, y_val = train_test_split(X, y, test_size=0.2, random_state=42)"
   ]
  },
  {
   "cell_type": "code",
   "execution_count": 103,
   "metadata": {},
   "outputs": [
    {
     "data": {
      "text/plain": [
       "(60, 6)"
      ]
     },
     "execution_count": 103,
     "metadata": {},
     "output_type": "execute_result"
    }
   ],
   "source": [
    "y_val.shape"
   ]
  },
  {
   "cell_type": "markdown",
   "metadata": {},
   "source": [
    "# 7. Build and Train LSTM Neural Network"
   ]
  },
  {
   "cell_type": "code",
   "execution_count": 37,
   "metadata": {},
   "outputs": [],
   "source": [
    "from tensorflow.keras.models import Sequential\n",
    "from tensorflow.keras.layers import LSTM, Dense\n",
    "from tensorflow.keras.callbacks import TensorBoard\n",
    "from keras.regularizers import l1"
   ]
  },
  {
   "cell_type": "code",
   "execution_count": 117,
   "metadata": {},
   "outputs": [],
   "source": [
    "from tensorflow.keras.optimizers import RMSprop\n",
    "from tensorflow.keras.callbacks import ModelCheckpoint, EarlyStopping\n",
    "# log_dir = os.path.join('Logs')\n",
    "# tb_callback = TensorBoard(log_dir=log_dir)\n",
    "\n",
    "checkpoint = ModelCheckpoint(\"lh_model.h5\",\n",
    "                             monitor='val_accuracy',\n",
    "                             mode='max',\n",
    "                             save_best_only=True,verbose=1)\n",
    "\n",
    "earlystop = EarlyStopping(monitor='val_accuracy',\n",
    "                          min_delta=0,\n",
    "                          patience=20,\n",
    "                          verbose=1,\n",
    "                          restore_best_weights=True)\n",
    "\n",
    "callbacks=[checkpoint,earlystop]\n"
   ]
  },
  {
   "cell_type": "code",
   "execution_count": 118,
   "metadata": {},
   "outputs": [],
   "source": [
    "from keras.models import Sequential\n",
    "from keras.layers import LSTM, Dense\n",
    "from tensorflow.keras import regularizers\n",
    "\n",
    "model = Sequential()\n",
    "model.add(LSTM(64, return_sequences=True, activation='relu', input_shape=(30, 258)))\n",
    "model.add(LSTM(128, return_sequences=True, activation='relu'))\n",
    "model.add(LSTM(256, return_sequences=False, activation='relu'))\n",
    "model.add(Dense(256, activation='relu', kernel_regularizer=regularizers.L1L2(l1=1e-5, l2=1e-4)))\n",
    "model.add(Dense(128, activation='relu', kernel_regularizer=regularizers.L1L2(l1=1e-5, l2=1e-4)))\n",
    "model.add(Dense(actions.shape[0], activation='softmax'))\n"
   ]
  },
  {
   "cell_type": "code",
   "execution_count": 121,
   "metadata": {},
   "outputs": [],
   "source": [
    "# model.compile(optimizer='Adam', loss='categorical_crossentropy', metrics=['categorical_accuracy'])\n",
    "import tensorflow as tf\n",
    "model.compile(loss='categorical_crossentropy',\n",
    "                   optimizer=RMSprop(learning_rate=0.0001),\n",
    "                   metrics=['accuracy', tf.keras.metrics.AUC()])\n"
   ]
  },
  {
   "cell_type": "code",
   "execution_count": 122,
   "metadata": {
    "scrolled": true
   },
   "outputs": [
    {
     "name": "stdout",
     "output_type": "stream",
     "text": [
      "Epoch 1/100\n",
      "8/8 [==============================] - 15s 497ms/step - loss: 1.8819 - accuracy: 0.1409 - auc: 0.5159 - val_loss: 1.8653 - val_accuracy: 0.1333 - val_auc: 0.5634s - loss: 1.8892 - accuracy: 0.1441 -\n",
      "\n",
      "Epoch 00001: val_accuracy improved from -inf to 0.13333, saving model to lh_model.h5\n",
      "Epoch 2/100\n",
      "8/8 [==============================] - 2s 238ms/step - loss: 1.8110 - accuracy: 0.1999 - auc: 0.6250 - val_loss: 1.7592 - val_accuracy: 0.1833 - val_auc: 0.6736\n",
      "\n",
      "Epoch 00002: val_accuracy improved from 0.13333 to 0.18333, saving model to lh_model.h5\n",
      "Epoch 3/100\n",
      "8/8 [==============================] - 2s 237ms/step - loss: 1.7067 - accuracy: 0.2846 - auc: 0.6969 - val_loss: 1.5976 - val_accuracy: 0.3167 - val_auc: 0.7751\n",
      "\n",
      "Epoch 00003: val_accuracy improved from 0.18333 to 0.31667, saving model to lh_model.h5\n",
      "Epoch 4/100\n",
      "8/8 [==============================] - 2s 240ms/step - loss: 1.4445 - accuracy: 0.4495 - auc: 0.8480 - val_loss: 1.4039 - val_accuracy: 0.5167 - val_auc: 0.8128\n",
      "\n",
      "Epoch 00004: val_accuracy improved from 0.31667 to 0.51667, saving model to lh_model.h5\n",
      "Epoch 5/100\n",
      "8/8 [==============================] - 2s 233ms/step - loss: 1.3057 - accuracy: 0.5894 - auc: 0.8592 - val_loss: 1.2611 - val_accuracy: 0.7167 - val_auc: 0.9265\n",
      "\n",
      "Epoch 00005: val_accuracy improved from 0.51667 to 0.71667, saving model to lh_model.h5\n",
      "Epoch 6/100\n",
      "8/8 [==============================] - 1s 178ms/step - loss: 1.0759 - accuracy: 0.7275 - auc: 0.9379 - val_loss: 1.2021 - val_accuracy: 0.6167 - val_auc: 0.9053\n",
      "\n",
      "Epoch 00006: val_accuracy did not improve from 0.71667\n",
      "Epoch 7/100\n",
      "8/8 [==============================] - 1s 155ms/step - loss: 1.0272 - accuracy: 0.6882 - auc: 0.9310 - val_loss: 0.9282 - val_accuracy: 0.6333 - val_auc: 0.9297\n",
      "\n",
      "Epoch 00007: val_accuracy did not improve from 0.71667\n",
      "Epoch 8/100\n",
      "8/8 [==============================] - 2s 227ms/step - loss: 1.0058 - accuracy: 0.6194 - auc: 0.9139 - val_loss: 0.6643 - val_accuracy: 0.9500 - val_auc: 0.9778\n",
      "\n",
      "Epoch 00008: val_accuracy improved from 0.71667 to 0.95000, saving model to lh_model.h5\n",
      "Epoch 9/100\n",
      "8/8 [==============================] - 2s 247ms/step - loss: 0.6668 - accuracy: 0.8163 - auc: 0.9712 - val_loss: 0.8657 - val_accuracy: 0.7667 - val_auc: 0.9496\n",
      "\n",
      "Epoch 00009: val_accuracy did not improve from 0.95000\n",
      "Epoch 10/100\n",
      "8/8 [==============================] - 2s 241ms/step - loss: 0.7628 - accuracy: 0.7303 - auc: 0.9569 - val_loss: 0.7650 - val_accuracy: 0.7833 - val_auc: 0.9614\n",
      "\n",
      "Epoch 00010: val_accuracy did not improve from 0.95000\n",
      "Epoch 11/100\n",
      "8/8 [==============================] - 2s 240ms/step - loss: 0.8190 - accuracy: 0.7713 - auc: 0.9434 - val_loss: 1.4007 - val_accuracy: 0.4000 - val_auc: 0.8301\n",
      "\n",
      "Epoch 00011: val_accuracy did not improve from 0.95000\n",
      "Epoch 12/100\n",
      "8/8 [==============================] - 2s 240ms/step - loss: 0.9038 - accuracy: 0.6719 - auc: 0.9302 - val_loss: 0.5248 - val_accuracy: 0.7500 - val_auc: 0.9823\n",
      "\n",
      "Epoch 00012: val_accuracy did not improve from 0.95000\n",
      "Epoch 13/100\n",
      "8/8 [==============================] - 2s 237ms/step - loss: 0.5049 - accuracy: 0.8452 - auc: 0.9809 - val_loss: 0.6229 - val_accuracy: 0.8333 - val_auc: 0.9698\n",
      "\n",
      "Epoch 00013: val_accuracy did not improve from 0.95000\n",
      "Epoch 14/100\n",
      "8/8 [==============================] - 2s 247ms/step - loss: 0.6860 - accuracy: 0.7940 - auc: 0.9634 - val_loss: 0.6048 - val_accuracy: 0.8667 - val_auc: 0.9717\n",
      "\n",
      "Epoch 00014: val_accuracy did not improve from 0.95000\n",
      "Epoch 15/100\n",
      "8/8 [==============================] - 2s 249ms/step - loss: 0.4613 - accuracy: 0.8721 - auc: 0.9868 - val_loss: 0.5935 - val_accuracy: 0.8333 - val_auc: 0.9718\n",
      "\n",
      "Epoch 00015: val_accuracy did not improve from 0.95000\n",
      "Epoch 16/100\n",
      "8/8 [==============================] - 2s 243ms/step - loss: 0.5458 - accuracy: 0.8450 - auc: 0.9769 - val_loss: 0.9018 - val_accuracy: 0.8000 - val_auc: 0.9320\n",
      "\n",
      "Epoch 00016: val_accuracy did not improve from 0.95000\n",
      "Epoch 17/100\n",
      "8/8 [==============================] - 2s 246ms/step - loss: 0.5653 - accuracy: 0.8450 - auc: 0.9745 - val_loss: 1.6064 - val_accuracy: 0.4000 - val_auc: 0.8255\n",
      "\n",
      "Epoch 00017: val_accuracy did not improve from 0.95000\n",
      "Epoch 18/100\n",
      "8/8 [==============================] - 2s 237ms/step - loss: 0.8309 - accuracy: 0.7783 - auc: 0.9393 - val_loss: 0.3363 - val_accuracy: 0.9167 - val_auc: 0.9924\n",
      "\n",
      "Epoch 00018: val_accuracy did not improve from 0.95000\n",
      "Epoch 19/100\n",
      "8/8 [==============================] - 2s 237ms/step - loss: 0.3523 - accuracy: 0.8937 - auc: 0.9925 - val_loss: 0.7012 - val_accuracy: 0.7833 - val_auc: 0.9652\n",
      "\n",
      "Epoch 00019: val_accuracy did not improve from 0.95000\n",
      "Epoch 20/100\n",
      "8/8 [==============================] - 2s 234ms/step - loss: 0.5440 - accuracy: 0.8594 - auc: 0.9759 - val_loss: 0.3137 - val_accuracy: 0.9000 - val_auc: 0.9932\n",
      "\n",
      "Epoch 00020: val_accuracy did not improve from 0.95000\n",
      "Epoch 21/100\n",
      "8/8 [==============================] - 2s 243ms/step - loss: 0.6762 - accuracy: 0.8126 - auc: 0.9600 - val_loss: 0.3375 - val_accuracy: 0.9333 - val_auc: 0.9958\n",
      "\n",
      "Epoch 00021: val_accuracy did not improve from 0.95000\n",
      "Epoch 22/100\n",
      "8/8 [==============================] - 2s 231ms/step - loss: 0.3168 - accuracy: 0.9415 - auc: 0.9963 - val_loss: 0.5312 - val_accuracy: 0.8167 - val_auc: 0.9843\n",
      "\n",
      "Epoch 00022: val_accuracy did not improve from 0.95000\n",
      "Epoch 23/100\n",
      "8/8 [==============================] - 2s 239ms/step - loss: 0.3797 - accuracy: 0.8921 - auc: 0.9911 - val_loss: 0.3953 - val_accuracy: 0.9000 - val_auc: 0.9894\n",
      "\n",
      "Epoch 00023: val_accuracy did not improve from 0.95000\n",
      "Epoch 24/100\n",
      "8/8 [==============================] - 2s 239ms/step - loss: 0.5312 - accuracy: 0.8388 - auc: 0.9788 - val_loss: 0.3040 - val_accuracy: 0.9167 - val_auc: 0.9959\n",
      "\n",
      "Epoch 00024: val_accuracy did not improve from 0.95000\n",
      "Epoch 25/100\n",
      "8/8 [==============================] - 2s 237ms/step - loss: 0.2220 - accuracy: 0.9740 - auc: 0.9969 - val_loss: 0.7108 - val_accuracy: 0.7833 - val_auc: 0.9624\n",
      "\n",
      "Epoch 00025: val_accuracy did not improve from 0.95000\n",
      "Epoch 26/100\n",
      "8/8 [==============================] - 2s 236ms/step - loss: 0.5375 - accuracy: 0.8444 - auc: 0.9754 - val_loss: 0.2880 - val_accuracy: 0.9333 - val_auc: 0.9939\n",
      "\n",
      "Epoch 00026: val_accuracy did not improve from 0.95000\n",
      "Epoch 27/100\n",
      "8/8 [==============================] - 2s 245ms/step - loss: 0.4817 - accuracy: 0.8514 - auc: 0.9825 - val_loss: 0.4094 - val_accuracy: 0.9000 - val_auc: 0.9873\n",
      "\n",
      "Epoch 00027: val_accuracy did not improve from 0.95000\n",
      "Epoch 28/100\n",
      "8/8 [==============================] - 2s 236ms/step - loss: 0.2716 - accuracy: 0.9578 - auc: 0.9978 - val_loss: 0.4394 - val_accuracy: 0.8667 - val_auc: 0.9866\n",
      "\n",
      "Epoch 00028: val_accuracy did not improve from 0.95000\n",
      "Restoring model weights from the end of the best epoch.\n",
      "Epoch 00028: early stopping\n"
     ]
    }
   ],
   "source": [
    "history = model.fit(X_train, y_train, epochs=100, callbacks=callbacks, validation_data=(X_val, y_val))"
   ]
  }
 ],
 "metadata": {
  "kernelspec": {
   "display_name": "Python 3",
   "language": "python",
   "name": "python3"
  },
  "language_info": {
   "codemirror_mode": {
    "name": "ipython",
    "version": 3
   },
   "file_extension": ".py",
   "mimetype": "text/x-python",
   "name": "python",
   "nbconvert_exporter": "python",
   "pygments_lexer": "ipython3",
   "version": "3.8.8"
  }
 },
 "nbformat": 4,
 "nbformat_minor": 2
}
